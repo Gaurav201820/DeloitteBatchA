{
 "cells": [
  {
   "cell_type": "markdown",
   "id": "b7e2e9be",
   "metadata": {},
   "source": [
    "# Regularization \n",
    "\n",
    "## It's a technique to avoid overfitting. If a model is going towards overfitting there is a penalty added to prevent the model from going towards it. Penalty is a term which is the sum of the coeefficients multiplied by the constant(lambda)."
   ]
  },
  {
   "cell_type": "markdown",
   "id": "f43b4014",
   "metadata": {},
   "source": [
    "## Types of Regression\n",
    "        1. Ridge Regression( constant * sum(co-efficients squared)) => AKA L2 regression\n",
    "        2. Lasso regression( constant *(sum(abs(co-efficients)) => AKA L1 regression\n",
    "        3. Elastic net"
   ]
  },
  {
   "cell_type": "code",
   "execution_count": 1,
   "id": "a71c1872",
   "metadata": {},
   "outputs": [],
   "source": [
    "import numpy as np\n",
    "import pandas as pd\n",
    "import seaborn as sns\n",
    "import matplotlib.pyplot as plt"
   ]
  },
  {
   "cell_type": "code",
   "execution_count": 2,
   "id": "1edc2c00",
   "metadata": {},
   "outputs": [],
   "source": [
    "data=pd.read_csv('C:/Deloitte Folder\\ML/housing.csv')"
   ]
  },
  {
   "cell_type": "code",
   "execution_count": 3,
   "id": "5763b384",
   "metadata": {},
   "outputs": [],
   "source": [
    "x=data.iloc[:,:-1]\n",
    "y=data.iloc[:,-1]"
   ]
  },
  {
   "cell_type": "markdown",
   "id": "55a61af1",
   "metadata": {},
   "source": [
    "### Regularizing using RIdge Regression"
   ]
  },
  {
   "cell_type": "code",
   "execution_count": 5,
   "id": "bc8763f9",
   "metadata": {},
   "outputs": [
    {
     "data": {
      "text/plain": [
       "Ridge(alpha=0.1)"
      ]
     },
     "execution_count": 5,
     "metadata": {},
     "output_type": "execute_result"
    }
   ],
   "source": [
    "from sklearn.linear_model import Ridge\n",
    "mod=Ridge(alpha=0.1)\n",
    "mod.fit(x,y)"
   ]
  },
  {
   "cell_type": "code",
   "execution_count": 25,
   "id": "acbcbebd",
   "metadata": {},
   "outputs": [],
   "source": [
    "# Using repeatedKFolds is same as using Normal KFold\n",
    "from sklearn.model_selection import RepeatedKFold\n",
    "cv=RepeatedKFold(n_splits=10,n_repeats=3,random_state=None)"
   ]
  },
  {
   "cell_type": "code",
   "execution_count": 20,
   "id": "f2f476ae",
   "metadata": {},
   "outputs": [
    {
     "data": {
      "text/plain": [
       "array([-26.81753755, -14.72133528, -17.52389062, -21.13496225,\n",
       "       -26.27682991, -20.548465  , -12.60359571, -51.731901  ,\n",
       "       -26.04661815, -18.3286638 , -24.23130649, -26.89098523,\n",
       "       -15.84908369, -15.72708618, -13.53665463, -19.08800659,\n",
       "       -11.67400466, -51.36578759, -32.93051068, -29.36516652,\n",
       "       -24.76966976, -16.40510364, -20.96263956, -20.53346729,\n",
       "       -20.39230272, -31.63396652, -20.01186255, -17.79497583,\n",
       "       -24.86375543, -37.5443496 ])"
      ]
     },
     "execution_count": 20,
     "metadata": {},
     "output_type": "execute_result"
    }
   ],
   "source": [
    "res1=cross_val_score(mod,x,y,cv=30,scoring='neg_mean_squared_error')\n",
    "res"
   ]
  },
  {
   "cell_type": "code",
   "execution_count": 9,
   "id": "d4fade78",
   "metadata": {},
   "outputs": [],
   "source": [
    "from sklearn.model_selection import cross_val_score\n",
    "res=cross_val_score(mod,x,y,cv=cv,scoring='neg_mean_squared_error')"
   ]
  },
  {
   "cell_type": "code",
   "execution_count": 22,
   "id": "93b6d36c",
   "metadata": {},
   "outputs": [
    {
     "data": {
      "text/plain": [
       "23.710149479881967"
      ]
     },
     "execution_count": 22,
     "metadata": {},
     "output_type": "execute_result"
    }
   ],
   "source": [
    "from numpy import mean,std,absolute\n",
    "mean(absolute(res))"
   ]
  },
  {
   "cell_type": "code",
   "execution_count": 11,
   "id": "43acc0ad",
   "metadata": {},
   "outputs": [
    {
     "data": {
      "text/plain": [
       "Lasso(alpha=0.1)"
      ]
     },
     "execution_count": 11,
     "metadata": {},
     "output_type": "execute_result"
    }
   ],
   "source": [
    "from sklearn.linear_model import Lasso\n",
    "model=Lasso(alpha=0.1)\n",
    "model.fit(x,y)"
   ]
  },
  {
   "cell_type": "code",
   "execution_count": 12,
   "id": "d131b626",
   "metadata": {},
   "outputs": [
    {
     "data": {
      "text/plain": [
       "dict_keys(['explained_variance', 'r2', 'max_error', 'neg_median_absolute_error', 'neg_mean_absolute_error', 'neg_mean_absolute_percentage_error', 'neg_mean_squared_error', 'neg_mean_squared_log_error', 'neg_root_mean_squared_error', 'neg_mean_poisson_deviance', 'neg_mean_gamma_deviance', 'accuracy', 'top_k_accuracy', 'roc_auc', 'roc_auc_ovr', 'roc_auc_ovo', 'roc_auc_ovr_weighted', 'roc_auc_ovo_weighted', 'balanced_accuracy', 'average_precision', 'neg_log_loss', 'neg_brier_score', 'adjusted_rand_score', 'rand_score', 'homogeneity_score', 'completeness_score', 'v_measure_score', 'mutual_info_score', 'adjusted_mutual_info_score', 'normalized_mutual_info_score', 'fowlkes_mallows_score', 'precision', 'precision_macro', 'precision_micro', 'precision_samples', 'precision_weighted', 'recall', 'recall_macro', 'recall_micro', 'recall_samples', 'recall_weighted', 'f1', 'f1_macro', 'f1_micro', 'f1_samples', 'f1_weighted', 'jaccard', 'jaccard_macro', 'jaccard_micro', 'jaccard_samples', 'jaccard_weighted'])"
      ]
     },
     "execution_count": 12,
     "metadata": {},
     "output_type": "execute_result"
    }
   ],
   "source": [
    "from sklearn import metrics\n",
    "metrics.SCORERS.keys()"
   ]
  },
  {
   "cell_type": "code",
   "execution_count": 23,
   "id": "6ba97987",
   "metadata": {},
   "outputs": [
    {
     "data": {
      "text/plain": [
       "4.954806504306081"
      ]
     },
     "execution_count": 23,
     "metadata": {},
     "output_type": "execute_result"
    }
   ],
   "source": [
    "score=cross_val_score(model,x,y,cv=cv,scoring='neg_root_mean_squared_error')\n",
    "mean(absolute(score))"
   ]
  },
  {
   "cell_type": "code",
   "execution_count": null,
   "id": "97e9d887",
   "metadata": {},
   "outputs": [],
   "source": []
  }
 ],
 "metadata": {
  "kernelspec": {
   "display_name": "Python 3 (ipykernel)",
   "language": "python",
   "name": "python3"
  },
  "language_info": {
   "codemirror_mode": {
    "name": "ipython",
    "version": 3
   },
   "file_extension": ".py",
   "mimetype": "text/x-python",
   "name": "python",
   "nbconvert_exporter": "python",
   "pygments_lexer": "ipython3",
   "version": "3.9.7"
  }
 },
 "nbformat": 4,
 "nbformat_minor": 5
}
