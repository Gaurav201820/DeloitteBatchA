{
 "cells": [
  {
   "cell_type": "code",
   "execution_count": 1,
   "id": "1ce3a53a",
   "metadata": {},
   "outputs": [],
   "source": [
    "import pandas as pd\n",
    "import numpy as np\n",
    "import seaborn as sns\n",
    "import matplotlib.pyplot as plt"
   ]
  },
  {
   "cell_type": "code",
   "execution_count": 2,
   "id": "fd847708",
   "metadata": {},
   "outputs": [],
   "source": [
    "hiringdetails = pd.read_csv('C:/Users/gauravn/Desktop/Capstone4_HRData/HR_Hiring_details_transaction.csv')\n",
    "joiningstatus = pd.read_csv('C:/Users/gauravn/Desktop/Capstone4_HRData/Joining_Status.csv')\n",
    "locationmaster = pd.read_excel('C:/Users/gauravn/Desktop/Capstone4_HRData/Location_Master.xlsx')\n",
    "regionlocationmapping = pd.read_excel('C:/Users/gauravn/Desktop/Capstone4_HRData/Region_Location_Mapping.xlsx')\n",
    "regionmaster = pd.read_excel('C:/Users/gauravn/Desktop/Capstone4_HRData/Region_Master.xlsx')\n",
    "domicile_master = pd.read_excel('C:/Users/gauravn/Desktop/Capstone4_HRData/Domicile_Master.xlsx')\n"
   ]
  },
  {
   "cell_type": "code",
   "execution_count": 3,
   "id": "585112ca",
   "metadata": {},
   "outputs": [
    {
     "data": {
      "text/html": [
       "<div>\n",
       "<style scoped>\n",
       "    .dataframe tbody tr th:only-of-type {\n",
       "        vertical-align: middle;\n",
       "    }\n",
       "\n",
       "    .dataframe tbody tr th {\n",
       "        vertical-align: top;\n",
       "    }\n",
       "\n",
       "    .dataframe thead th {\n",
       "        text-align: right;\n",
       "    }\n",
       "</style>\n",
       "<table border=\"1\" class=\"dataframe\">\n",
       "  <thead>\n",
       "    <tr style=\"text-align: right;\">\n",
       "      <th></th>\n",
       "      <th>Sno</th>\n",
       "      <th>Candidate_Ref</th>\n",
       "      <th>DOJ_Extended</th>\n",
       "      <th>Duration_to_accept_offer</th>\n",
       "      <th>Notice_Period</th>\n",
       "      <th>Offered_Band</th>\n",
       "      <th>Percent_hike_expected_in_CTC</th>\n",
       "      <th>Percent_hike_offered_in_CTC</th>\n",
       "      <th>Percent_difference_CTC</th>\n",
       "      <th>Joining_Bonus</th>\n",
       "      <th>Candidate_relocate_actual</th>\n",
       "      <th>Gender</th>\n",
       "      <th>Candidate_Source</th>\n",
       "      <th>Rex_in_Yrs</th>\n",
       "      <th>Location_ID</th>\n",
       "      <th>Postal_Code</th>\n",
       "      <th>Age</th>\n",
       "      <th>LOB_Id</th>\n",
       "      <th>Domicile_Id</th>\n",
       "    </tr>\n",
       "  </thead>\n",
       "  <tbody>\n",
       "    <tr>\n",
       "      <th>0</th>\n",
       "      <td>1</td>\n",
       "      <td>2110407</td>\n",
       "      <td>Yes</td>\n",
       "      <td>14</td>\n",
       "      <td>30</td>\n",
       "      <td>E2</td>\n",
       "      <td>-20.79</td>\n",
       "      <td>13.16</td>\n",
       "      <td>42.86</td>\n",
       "      <td>No</td>\n",
       "      <td>No</td>\n",
       "      <td>Female</td>\n",
       "      <td>Agency</td>\n",
       "      <td>7</td>\n",
       "      <td>L001</td>\n",
       "      <td>201301</td>\n",
       "      <td>34.0</td>\n",
       "      <td>1</td>\n",
       "      <td>D6</td>\n",
       "    </tr>\n",
       "    <tr>\n",
       "      <th>1</th>\n",
       "      <td>2</td>\n",
       "      <td>2112635</td>\n",
       "      <td>No</td>\n",
       "      <td>18</td>\n",
       "      <td>30</td>\n",
       "      <td>E2</td>\n",
       "      <td>50.00</td>\n",
       "      <td>320.00</td>\n",
       "      <td>180.00</td>\n",
       "      <td>No</td>\n",
       "      <td>No</td>\n",
       "      <td>Male</td>\n",
       "      <td>Employee Referral</td>\n",
       "      <td>8</td>\n",
       "      <td>L002</td>\n",
       "      <td>600020</td>\n",
       "      <td>34.0</td>\n",
       "      <td>2</td>\n",
       "      <td>D9</td>\n",
       "    </tr>\n",
       "    <tr>\n",
       "      <th>2</th>\n",
       "      <td>3</td>\n",
       "      <td>2112838</td>\n",
       "      <td>No</td>\n",
       "      <td>3</td>\n",
       "      <td>45</td>\n",
       "      <td>E2</td>\n",
       "      <td>42.84</td>\n",
       "      <td>42.84</td>\n",
       "      <td>0.00</td>\n",
       "      <td>No</td>\n",
       "      <td>No</td>\n",
       "      <td>Male</td>\n",
       "      <td>Agency</td>\n",
       "      <td>4</td>\n",
       "      <td>L001</td>\n",
       "      <td>201301</td>\n",
       "      <td>27.0</td>\n",
       "      <td>2</td>\n",
       "      <td>D10</td>\n",
       "    </tr>\n",
       "    <tr>\n",
       "      <th>3</th>\n",
       "      <td>4</td>\n",
       "      <td>2115021</td>\n",
       "      <td>No</td>\n",
       "      <td>26</td>\n",
       "      <td>30</td>\n",
       "      <td>E2</td>\n",
       "      <td>42.84</td>\n",
       "      <td>42.84</td>\n",
       "      <td>0.00</td>\n",
       "      <td>No</td>\n",
       "      <td>No</td>\n",
       "      <td>Male</td>\n",
       "      <td>Employee Referral</td>\n",
       "      <td>4</td>\n",
       "      <td>L001</td>\n",
       "      <td>201301</td>\n",
       "      <td>34.0</td>\n",
       "      <td>2</td>\n",
       "      <td>D3</td>\n",
       "    </tr>\n",
       "    <tr>\n",
       "      <th>4</th>\n",
       "      <td>5</td>\n",
       "      <td>2115125</td>\n",
       "      <td>Yes</td>\n",
       "      <td>1</td>\n",
       "      <td>120</td>\n",
       "      <td>E2</td>\n",
       "      <td>42.59</td>\n",
       "      <td>42.59</td>\n",
       "      <td>0.00</td>\n",
       "      <td>No</td>\n",
       "      <td>Yes</td>\n",
       "      <td>Male</td>\n",
       "      <td>Employee Referral</td>\n",
       "      <td>6</td>\n",
       "      <td>L001</td>\n",
       "      <td>201301</td>\n",
       "      <td>34.0</td>\n",
       "      <td>2</td>\n",
       "      <td>D21</td>\n",
       "    </tr>\n",
       "  </tbody>\n",
       "</table>\n",
       "</div>"
      ],
      "text/plain": [
       "   Sno  Candidate_Ref DOJ_Extended  Duration_to_accept_offer  Notice_Period  \\\n",
       "0    1        2110407          Yes                        14             30   \n",
       "1    2        2112635           No                        18             30   \n",
       "2    3        2112838           No                         3             45   \n",
       "3    4        2115021           No                        26             30   \n",
       "4    5        2115125          Yes                         1            120   \n",
       "\n",
       "  Offered_Band  Percent_hike_expected_in_CTC  Percent_hike_offered_in_CTC  \\\n",
       "0           E2                        -20.79                        13.16   \n",
       "1           E2                         50.00                       320.00   \n",
       "2           E2                         42.84                        42.84   \n",
       "3           E2                         42.84                        42.84   \n",
       "4           E2                         42.59                        42.59   \n",
       "\n",
       "   Percent_difference_CTC Joining_Bonus Candidate_relocate_actual  Gender  \\\n",
       "0                   42.86            No                        No  Female   \n",
       "1                  180.00            No                        No    Male   \n",
       "2                    0.00            No                        No    Male   \n",
       "3                    0.00            No                        No    Male   \n",
       "4                    0.00            No                       Yes    Male   \n",
       "\n",
       "    Candidate_Source  Rex_in_Yrs Location_ID  Postal_Code   Age  LOB_Id  \\\n",
       "0             Agency           7        L001       201301  34.0       1   \n",
       "1  Employee Referral           8        L002       600020  34.0       2   \n",
       "2             Agency           4        L001       201301  27.0       2   \n",
       "3  Employee Referral           4        L001       201301  34.0       2   \n",
       "4  Employee Referral           6        L001       201301  34.0       2   \n",
       "\n",
       "  Domicile_Id  \n",
       "0          D6  \n",
       "1          D9  \n",
       "2         D10  \n",
       "3          D3  \n",
       "4         D21  "
      ]
     },
     "execution_count": 3,
     "metadata": {},
     "output_type": "execute_result"
    }
   ],
   "source": [
    "hiringdetails.head()"
   ]
  },
  {
   "cell_type": "code",
   "execution_count": 4,
   "id": "e15fb033",
   "metadata": {},
   "outputs": [],
   "source": [
    "del hiringdetails['Postal_Code']\n",
    "del hiringdetails['LOB_Id']\n",
    "del hiringdetails['Sno']"
   ]
  },
  {
   "cell_type": "code",
   "execution_count": 5,
   "id": "5f14ea1e",
   "metadata": {},
   "outputs": [],
   "source": [
    "hiringdetails['Offered_Band'].fillna('E1',inplace=True)\n",
    "hiringdetails['Age'].fillna(34.0,inplace=True)"
   ]
  },
  {
   "cell_type": "code",
   "execution_count": 6,
   "id": "e029fb9e",
   "metadata": {},
   "outputs": [],
   "source": [
    "hire_merge=hiringdetails.merge(locationmaster,on='Location_ID')"
   ]
  },
  {
   "cell_type": "code",
   "execution_count": 7,
   "id": "6866057d",
   "metadata": {},
   "outputs": [],
   "source": [
    "hmerge = hire_merge.merge(joiningstatus,on='Candidate_Ref')"
   ]
  },
  {
   "cell_type": "code",
   "execution_count": 8,
   "id": "c90d515b",
   "metadata": {},
   "outputs": [
    {
     "data": {
      "text/plain": [
       "Candidate_Ref                   0\n",
       "DOJ_Extended                    0\n",
       "Duration_to_accept_offer        0\n",
       "Notice_Period                   0\n",
       "Offered_Band                    0\n",
       "Percent_hike_expected_in_CTC    0\n",
       "Percent_hike_offered_in_CTC     0\n",
       "Percent_difference_CTC          0\n",
       "Joining_Bonus                   0\n",
       "Candidate_relocate_actual       0\n",
       "Gender                          0\n",
       "Candidate_Source                0\n",
       "Rex_in_Yrs                      0\n",
       "Location_ID                     0\n",
       "Age                             0\n",
       "Domicile_Id                     0\n",
       "Location                        0\n",
       "Status                          0\n",
       "dtype: int64"
      ]
     },
     "execution_count": 8,
     "metadata": {},
     "output_type": "execute_result"
    }
   ],
   "source": [
    "hmerge.isna().sum()"
   ]
  },
  {
   "cell_type": "code",
   "execution_count": 9,
   "id": "b4c129de",
   "metadata": {},
   "outputs": [],
   "source": [
    "for x in hmerge.index:\n",
    "    hmerge['Percent_difference_CTC'] = hmerge['Percent_hike_expected_in_CTC'] - hmerge['Percent_hike_offered_in_CTC']\n"
   ]
  },
  {
   "cell_type": "code",
   "execution_count": 10,
   "id": "6a48f225",
   "metadata": {},
   "outputs": [],
   "source": [
    "hmerge['Percent_hike_expected_in_CTC']=abs(hmerge[['Percent_hike_expected_in_CTC']])\n",
    "hmerge['Percent_hike_offered_in_CTC']=abs(hmerge[['Percent_hike_offered_in_CTC']])"
   ]
  },
  {
   "cell_type": "code",
   "execution_count": 11,
   "id": "1b7259da",
   "metadata": {},
   "outputs": [
    {
     "data": {
      "text/html": [
       "<div>\n",
       "<style scoped>\n",
       "    .dataframe tbody tr th:only-of-type {\n",
       "        vertical-align: middle;\n",
       "    }\n",
       "\n",
       "    .dataframe tbody tr th {\n",
       "        vertical-align: top;\n",
       "    }\n",
       "\n",
       "    .dataframe thead th {\n",
       "        text-align: right;\n",
       "    }\n",
       "</style>\n",
       "<table border=\"1\" class=\"dataframe\">\n",
       "  <thead>\n",
       "    <tr style=\"text-align: right;\">\n",
       "      <th></th>\n",
       "      <th>Candidate_Ref</th>\n",
       "      <th>DOJ_Extended</th>\n",
       "      <th>Duration_to_accept_offer</th>\n",
       "      <th>Notice_Period</th>\n",
       "      <th>Offered_Band</th>\n",
       "      <th>Percent_hike_expected_in_CTC</th>\n",
       "      <th>Percent_hike_offered_in_CTC</th>\n",
       "      <th>Percent_difference_CTC</th>\n",
       "      <th>Joining_Bonus</th>\n",
       "      <th>Candidate_relocate_actual</th>\n",
       "      <th>Gender</th>\n",
       "      <th>Candidate_Source</th>\n",
       "      <th>Rex_in_Yrs</th>\n",
       "      <th>Location_ID</th>\n",
       "      <th>Age</th>\n",
       "      <th>Domicile_Id</th>\n",
       "      <th>Location</th>\n",
       "      <th>Status</th>\n",
       "    </tr>\n",
       "  </thead>\n",
       "  <tbody>\n",
       "    <tr>\n",
       "      <th>0</th>\n",
       "      <td>2110407</td>\n",
       "      <td>Yes</td>\n",
       "      <td>14</td>\n",
       "      <td>30</td>\n",
       "      <td>E2</td>\n",
       "      <td>20.79</td>\n",
       "      <td>13.16</td>\n",
       "      <td>-33.95</td>\n",
       "      <td>No</td>\n",
       "      <td>No</td>\n",
       "      <td>Female</td>\n",
       "      <td>Agency</td>\n",
       "      <td>7</td>\n",
       "      <td>L001</td>\n",
       "      <td>34.0</td>\n",
       "      <td>D6</td>\n",
       "      <td>Noida</td>\n",
       "      <td>Joined</td>\n",
       "    </tr>\n",
       "    <tr>\n",
       "      <th>1</th>\n",
       "      <td>2112838</td>\n",
       "      <td>No</td>\n",
       "      <td>3</td>\n",
       "      <td>45</td>\n",
       "      <td>E2</td>\n",
       "      <td>42.84</td>\n",
       "      <td>42.84</td>\n",
       "      <td>0.00</td>\n",
       "      <td>No</td>\n",
       "      <td>No</td>\n",
       "      <td>Male</td>\n",
       "      <td>Agency</td>\n",
       "      <td>4</td>\n",
       "      <td>L001</td>\n",
       "      <td>27.0</td>\n",
       "      <td>D10</td>\n",
       "      <td>Noida</td>\n",
       "      <td>Joined</td>\n",
       "    </tr>\n",
       "    <tr>\n",
       "      <th>2</th>\n",
       "      <td>2115021</td>\n",
       "      <td>No</td>\n",
       "      <td>26</td>\n",
       "      <td>30</td>\n",
       "      <td>E2</td>\n",
       "      <td>42.84</td>\n",
       "      <td>42.84</td>\n",
       "      <td>0.00</td>\n",
       "      <td>No</td>\n",
       "      <td>No</td>\n",
       "      <td>Male</td>\n",
       "      <td>Employee Referral</td>\n",
       "      <td>4</td>\n",
       "      <td>L001</td>\n",
       "      <td>34.0</td>\n",
       "      <td>D3</td>\n",
       "      <td>Noida</td>\n",
       "      <td>Joined</td>\n",
       "    </tr>\n",
       "    <tr>\n",
       "      <th>3</th>\n",
       "      <td>2115125</td>\n",
       "      <td>Yes</td>\n",
       "      <td>1</td>\n",
       "      <td>120</td>\n",
       "      <td>E2</td>\n",
       "      <td>42.59</td>\n",
       "      <td>42.59</td>\n",
       "      <td>0.00</td>\n",
       "      <td>No</td>\n",
       "      <td>Yes</td>\n",
       "      <td>Male</td>\n",
       "      <td>Employee Referral</td>\n",
       "      <td>6</td>\n",
       "      <td>L001</td>\n",
       "      <td>34.0</td>\n",
       "      <td>D21</td>\n",
       "      <td>Noida</td>\n",
       "      <td>Joined</td>\n",
       "    </tr>\n",
       "    <tr>\n",
       "      <th>4</th>\n",
       "      <td>2117167</td>\n",
       "      <td>Yes</td>\n",
       "      <td>17</td>\n",
       "      <td>30</td>\n",
       "      <td>E1</td>\n",
       "      <td>42.83</td>\n",
       "      <td>42.83</td>\n",
       "      <td>0.00</td>\n",
       "      <td>No</td>\n",
       "      <td>No</td>\n",
       "      <td>Male</td>\n",
       "      <td>Employee Referral</td>\n",
       "      <td>2</td>\n",
       "      <td>L001</td>\n",
       "      <td>34.0</td>\n",
       "      <td>D24</td>\n",
       "      <td>Noida</td>\n",
       "      <td>Joined</td>\n",
       "    </tr>\n",
       "  </tbody>\n",
       "</table>\n",
       "</div>"
      ],
      "text/plain": [
       "   Candidate_Ref DOJ_Extended  Duration_to_accept_offer  Notice_Period  \\\n",
       "0        2110407          Yes                        14             30   \n",
       "1        2112838           No                         3             45   \n",
       "2        2115021           No                        26             30   \n",
       "3        2115125          Yes                         1            120   \n",
       "4        2117167          Yes                        17             30   \n",
       "\n",
       "  Offered_Band  Percent_hike_expected_in_CTC  Percent_hike_offered_in_CTC  \\\n",
       "0           E2                         20.79                        13.16   \n",
       "1           E2                         42.84                        42.84   \n",
       "2           E2                         42.84                        42.84   \n",
       "3           E2                         42.59                        42.59   \n",
       "4           E1                         42.83                        42.83   \n",
       "\n",
       "   Percent_difference_CTC Joining_Bonus Candidate_relocate_actual  Gender  \\\n",
       "0                  -33.95            No                        No  Female   \n",
       "1                    0.00            No                        No    Male   \n",
       "2                    0.00            No                        No    Male   \n",
       "3                    0.00            No                       Yes    Male   \n",
       "4                    0.00            No                        No    Male   \n",
       "\n",
       "    Candidate_Source  Rex_in_Yrs Location_ID   Age Domicile_Id Location  \\\n",
       "0             Agency           7        L001  34.0          D6    Noida   \n",
       "1             Agency           4        L001  27.0         D10    Noida   \n",
       "2  Employee Referral           4        L001  34.0          D3    Noida   \n",
       "3  Employee Referral           6        L001  34.0         D21    Noida   \n",
       "4  Employee Referral           2        L001  34.0         D24    Noida   \n",
       "\n",
       "   Status  \n",
       "0  Joined  \n",
       "1  Joined  \n",
       "2  Joined  \n",
       "3  Joined  \n",
       "4  Joined  "
      ]
     },
     "execution_count": 11,
     "metadata": {},
     "output_type": "execute_result"
    }
   ],
   "source": [
    "hmerge.head()"
   ]
  },
  {
   "cell_type": "markdown",
   "id": "9ef4a233",
   "metadata": {},
   "source": [
    "# Q1. Analysis of percentage joined"
   ]
  },
  {
   "cell_type": "code",
   "execution_count": 18,
   "id": "3058d59c",
   "metadata": {},
   "outputs": [
    {
     "name": "stdout",
     "output_type": "stream",
     "text": [
      "Percentage of candidates who accepted the offer are:  81.27 %\n",
      "Percentage of candidates who rejected the offer are:  18.73 %\n"
     ]
    }
   ],
   "source": [
    "count_not_joined = 0\n",
    "for i in range(len(hmerge['Status'])):\n",
    "    if hmerge['Status'][i] == 'Not Joined':\n",
    "        count_not_joined += 1\n",
    "\n",
    "\n",
    "temp=(1-(count_not_joined)/i)*100\n",
    "\n",
    "print(\"Percentage of candidates who accepted the offer are: \",round(temp,2),\"%\")\n",
    "print(\"Percentage of candidates who rejected the offer are: \",round(100-temp,2),\"%\")"
   ]
  },
  {
   "cell_type": "markdown",
   "id": "00e79cd8",
   "metadata": {},
   "source": [
    "# Q2. \tWhat are the key drivers that influence the candidate joining/not joining a company?"
   ]
  },
  {
   "cell_type": "markdown",
   "id": "07014bb5",
   "metadata": {},
   "source": [
    " #### Performing the Anova test onthe joining bonus and Status"
   ]
  },
  {
   "cell_type": "markdown",
   "id": "7a502e98",
   "metadata": {},
   "source": [
    "Ho - Percent hike is same for 'Joined' and 'Not Joined'\n",
    "H1 - Percent hike is different"
   ]
  },
  {
   "cell_type": "code",
   "execution_count": 19,
   "id": "1c5f3e24",
   "metadata": {},
   "outputs": [],
   "source": [
    "import scipy.stats as st\n",
    "p_exp = hmerge[hmerge.Status=='Joined']['Percent_hike_offered_in_CTC']\n",
    "p_off = hmerge[hmerge.Status=='Not Joined']['Percent_hike_offered_in_CTC']"
   ]
  },
  {
   "cell_type": "code",
   "execution_count": 22,
   "id": "16eebe15",
   "metadata": {},
   "outputs": [
    {
     "name": "stdout",
     "output_type": "stream",
     "text": [
      "test statistic =8.330142,p value=0.003909\n",
      "Mean percent hike offered:  42.080103540414\n"
     ]
    }
   ],
   "source": [
    "test_stat, p_value = st.f_oneway(p_exp,p_off)\n",
    "print('test statistic =%4f,p value=%5f'%(test_stat,p_value))\n",
    "print(\"Mean percent hike offered: \",hmerge['Percent_hike_offered_in_CTC'].mean())"
   ]
  },
  {
   "cell_type": "code",
   "execution_count": 23,
   "id": "eb82f37c",
   "metadata": {},
   "outputs": [
    {
     "data": {
      "text/plain": [
       "<AxesSubplot:xlabel='Status', ylabel='Percent_hike_offered_in_CTC'>"
      ]
     },
     "execution_count": 23,
     "metadata": {},
     "output_type": "execute_result"
    },
    {
     "data": {
      "image/png": "[encoded data removed]",
      "text/plain": [
       "<Figure size 432x288 with 1 Axes>"
      ]
     },
     "metadata": {
      "needs_background": "light"
     },
     "output_type": "display_data"
    }
   ],
   "source": [
    "sns.barplot(data=hmerge,x='Status',y='Percent_hike_offered_in_CTC')"
   ]
  },
  {
   "cell_type": "markdown",
   "id": "ce062acd",
   "metadata": {},
   "source": [
    "alpha value is 0.05. \n",
    "\n",
    "####  INFERENCE:\n",
    "Since the derived p-value(0.0039) which is less than alpha. We fail to accept the Null hypothesis. Hence, alternate hypothesis is accepted. Percent hike offered in CTC is different for candidates who end up joining the firm than that of those who do not join. Hence, percent hike offered in CTC has an influence on candidate joining or not joining the firm."
   ]
  },
  {
   "cell_type": "markdown",
   "id": "d3a0f3ce",
   "metadata": {},
   "source": [
    "#### 2. Performing Chi-Square test on the notice period and status to check whether they are related.\n",
    " \n",
    " 1. H0 - mean duration to accept offer is not same \n",
    " 2. H1 - mean duration to accept offer is same for both 'joined' and 'not joined'. "
   ]
  },
  {
   "cell_type": "code",
   "execution_count": 24,
   "id": "f631fc03",
   "metadata": {},
   "outputs": [
    {
     "name": "stderr",
     "output_type": "stream",
     "text": [
      "C:\\Users\\gauravn\\AppData\\Local\\Temp/ipykernel_19176/1213361667.py:2: SettingWithCopyWarning: \n",
      "A value is trying to be set on a copy of a slice from a DataFrame.\n",
      "Try using .loc[row_indexer,col_indexer] = value instead\n",
      "\n",
      "See the caveats in the documentation: https://pandas.pydata.org/pandas-docs/stable/user_guide/indexing.html#returning-a-view-versus-a-copy\n",
      "  notice_p['Status'] = notice_p['Status'].map({'Joined':1,'Not Joined':2})\n"
     ]
    }
   ],
   "source": [
    "notice_p = hmerge[['Notice_Period','Status']]\n",
    "notice_p['Status'] = notice_p['Status'].map({'Joined':1,'Not Joined':2})"
   ]
  },
  {
   "cell_type": "code",
   "execution_count": 25,
   "id": "20986fad",
   "metadata": {},
   "outputs": [
    {
     "name": "stdout",
     "output_type": "stream",
     "text": [
      "Dependent (Reject H0)\n"
     ]
    }
   ],
   "source": [
    "from scipy.stats import chi2_contingency\n",
    "stat,p_value,dof,expected = chi2_contingency(notice_p)\n",
    "alpha = 0.05\n",
    "if p_value <= alpha:\n",
    "    print('Dependent (Reject H0)')\n",
    "else:\n",
    "    print('Independent (accept H0)')"
   ]
  },
  {
   "cell_type": "code",
   "execution_count": 36,
   "id": "d8a448cc",
   "metadata": {},
   "outputs": [
    {
     "data": {
      "image/png": "[encoded data removed]",
      "text/plain": [
       "<Figure size 432x288 with 1 Axes>"
      ]
     },
     "metadata": {
      "needs_background": "light"
     },
     "output_type": "display_data"
    },
    {
     "data": {
      "image/png": "[encoded data removed]",
      "text/plain": [
       "<Figure size 432x288 with 1 Axes>"
      ]
     },
     "metadata": {
      "needs_background": "light"
     },
     "output_type": "display_data"
    }
   ],
   "source": [
    "sns.lineplot(x=hmerge['Notice_Period'], y=hmerge['Duration_to_accept_offer'], data=hmerge)\n",
    "plt.show()\n",
    "sns.barplot(y=notice_p['Notice_Period'], x=notice_p['Status'], data=notice_p)\n",
    "plt.show()"
   ]
  },
  {
   "cell_type": "markdown",
   "id": "096cb6d4",
   "metadata": {},
   "source": [
    "#### INFERENCE:\n",
    "\n",
    "p- value is greater than alpha value. Hence the H0(Null hypothesis) is accepted.\n",
    "\n",
    "\n",
    "We plotted a graph of \"Notice Period\" v/s \"Duration to accept offer\". It is observed that, candidates who have a longer notice period, tend to take a long time to accept the offer. \n",
    "\n",
    "\n",
    "At last we perform the Chi square test and found out that the p-value is less than the alpha value. Hence Null Hypothesis is rejected. This means Notice Period has an impact on the joining status\n",
    "\n"
   ]
  },
  {
   "cell_type": "markdown",
   "id": "2cdc3432",
   "metadata": {},
   "source": [
    "#### 3. Analyzing percent hike offered and expected on status of joining"
   ]
  },
  {
   "cell_type": "code",
   "execution_count": 28,
   "id": "dfb80842",
   "metadata": {},
   "outputs": [
    {
     "name": "stderr",
     "output_type": "stream",
     "text": [
      "C:\\Users\\gauravn\\Anaconda3\\lib\\site-packages\\seaborn\\_decorators.py:36: FutureWarning: Pass the following variables as keyword args: x, y. From version 0.12, the only valid positional argument will be `data`, and passing other arguments without an explicit keyword will result in an error or misinterpretation.\n",
      "  warnings.warn(\n"
     ]
    },
    {
     "data": {
      "text/plain": [
       "<AxesSubplot:xlabel='Percent_hike_expected_in_CTC', ylabel='Percent_hike_offered_in_CTC'>"
      ]
     },
     "execution_count": 28,
     "metadata": {},
     "output_type": "execute_result"
    },
    {
     "data": {
      "image/png": "[encoded data removed]",
      "text/plain": [
       "<Figure size 432x288 with 1 Axes>"
      ]
     },
     "metadata": {
      "needs_background": "light"
     },
     "output_type": "display_data"
    }
   ],
   "source": [
    "sns.scatterplot(hmerge['Percent_hike_expected_in_CTC'],hmerge['Percent_hike_offered_in_CTC'],hue=hmerge['Status'],\n",
    "               palette='Set1')"
   ]
  },
  {
   "cell_type": "markdown",
   "id": "8bb3e2d1",
   "metadata": {},
   "source": [
    "#### Inference: \n",
    "\n",
    "Percentage of hike accepted and percentage of hike offered by the company seems to be neutral and yet there is a positive correlation. There are more number of joinings when the hike expected and hike offered match."
   ]
  },
  {
   "cell_type": "markdown",
   "id": "ca18c7e4",
   "metadata": {},
   "source": [
    "#### 4. Analyzing the percent hike offered and offered band on status"
   ]
  },
  {
   "cell_type": "code",
   "execution_count": 29,
   "id": "3d8c0c56",
   "metadata": {},
   "outputs": [
    {
     "name": "stderr",
     "output_type": "stream",
     "text": [
      "C:\\Users\\gauravn\\Anaconda3\\lib\\site-packages\\seaborn\\_decorators.py:36: FutureWarning: Pass the following variables as keyword args: x, y. From version 0.12, the only valid positional argument will be `data`, and passing other arguments without an explicit keyword will result in an error or misinterpretation.\n",
      "  warnings.warn(\n"
     ]
    },
    {
     "data": {
      "text/plain": [
       "<AxesSubplot:xlabel='Status', ylabel='Percent_hike_offered_in_CTC'>"
      ]
     },
     "execution_count": 29,
     "metadata": {},
     "output_type": "execute_result"
    },
    {
     "data": {
      "image/png": "[encoded data removed]",
      "text/plain": [
       "<Figure size 432x288 with 1 Axes>"
      ]
     },
     "metadata": {
      "needs_background": "light"
     },
     "output_type": "display_data"
    }
   ],
   "source": [
    "sns.barplot(hmerge['Status'],hmerge['Percent_hike_offered_in_CTC'],hue=hmerge['Offered_Band'])"
   ]
  },
  {
   "cell_type": "markdown",
   "id": "5bef84a1",
   "metadata": {},
   "source": [
    "#### INFERENCE:\n",
    "\n",
    "There is a more number of joining in E1 band with the percentage of hike offered nearly 40% to 45% and also E3 band has the least number of joining out of all bands with the hike offered nearly 35% to 40%.\n",
    "\n",
    "Number of not joinings in both E0 and E3 band is same while there is avariation between E1 and E2.\n",
    "Both joining and not joining candidates has been offered a good percentage hike. but even then the reason for not joining may be beacuse of the preffered band not getting."
   ]
  },
  {
   "cell_type": "markdown",
   "id": "7c9afe33",
   "metadata": {},
   "source": [
    "# Q3. Are there specific locations where candidates are not joining?"
   ]
  },
  {
   "cell_type": "code",
   "execution_count": 37,
   "id": "35a76372",
   "metadata": {},
   "outputs": [
    {
     "name": "stdout",
     "output_type": "stream",
     "text": [
      "['Noida' 'Chennai' 'Gurgaon' 'Bangalore' 'Hyderabad' 'Kolkata' 'Cochin'\n",
      " 'Pune' 'Mumbai' 'Ahmedabad']\n"
     ]
    }
   ],
   "source": [
    "loct=hmerge[['Location','Status']]\n",
    "l1=loct.groupby('Status')\n",
    "l2=l1.get_group('Not Joined')\n",
    "print(l2['Location'].unique())\n"
   ]
  },
  {
   "cell_type": "markdown",
   "id": "ad456532",
   "metadata": {},
   "source": [
    "# Q4. Joining status depends on the duration to accept an offer?\n",
    "\n",
    "1. H0 - Mean of 'Duration to accept offer' is same for both people Joined and not Joined\n",
    "\n",
    "2. H1 - Mean of 'Duration to accept offer' is not same for both people Joined and not Joined"
   ]
  },
  {
   "cell_type": "markdown",
   "id": "43322a9b",
   "metadata": {},
   "source": [
    "#### Use Anova testing"
   ]
  },
  {
   "cell_type": "code",
   "execution_count": 42,
   "id": "4fc27e32",
   "metadata": {},
   "outputs": [
    {
     "data": {
      "text/html": [
       "<div>\n",
       "<style scoped>\n",
       "    .dataframe tbody tr th:only-of-type {\n",
       "        vertical-align: middle;\n",
       "    }\n",
       "\n",
       "    .dataframe tbody tr th {\n",
       "        vertical-align: top;\n",
       "    }\n",
       "\n",
       "    .dataframe thead th {\n",
       "        text-align: right;\n",
       "    }\n",
       "</style>\n",
       "<table border=\"1\" class=\"dataframe\">\n",
       "  <thead>\n",
       "    <tr style=\"text-align: right;\">\n",
       "      <th></th>\n",
       "      <th>Duration_to_accept_offer</th>\n",
       "      <th>Status</th>\n",
       "    </tr>\n",
       "  </thead>\n",
       "  <tbody>\n",
       "    <tr>\n",
       "      <th>0</th>\n",
       "      <td>14</td>\n",
       "      <td>Joined</td>\n",
       "    </tr>\n",
       "    <tr>\n",
       "      <th>1</th>\n",
       "      <td>3</td>\n",
       "      <td>Joined</td>\n",
       "    </tr>\n",
       "    <tr>\n",
       "      <th>2</th>\n",
       "      <td>26</td>\n",
       "      <td>Joined</td>\n",
       "    </tr>\n",
       "    <tr>\n",
       "      <th>3</th>\n",
       "      <td>1</td>\n",
       "      <td>Joined</td>\n",
       "    </tr>\n",
       "    <tr>\n",
       "      <th>4</th>\n",
       "      <td>17</td>\n",
       "      <td>Joined</td>\n",
       "    </tr>\n",
       "    <tr>\n",
       "      <th>...</th>\n",
       "      <td>...</td>\n",
       "      <td>...</td>\n",
       "    </tr>\n",
       "    <tr>\n",
       "      <th>8977</th>\n",
       "      <td>0</td>\n",
       "      <td>Joined</td>\n",
       "    </tr>\n",
       "    <tr>\n",
       "      <th>8978</th>\n",
       "      <td>1</td>\n",
       "      <td>Joined</td>\n",
       "    </tr>\n",
       "    <tr>\n",
       "      <th>8979</th>\n",
       "      <td>0</td>\n",
       "      <td>Joined</td>\n",
       "    </tr>\n",
       "    <tr>\n",
       "      <th>8980</th>\n",
       "      <td>0</td>\n",
       "      <td>Joined</td>\n",
       "    </tr>\n",
       "    <tr>\n",
       "      <th>8981</th>\n",
       "      <td>1</td>\n",
       "      <td>Not Joined</td>\n",
       "    </tr>\n",
       "  </tbody>\n",
       "</table>\n",
       "<p>8982 rows × 2 columns</p>\n",
       "</div>"
      ],
      "text/plain": [
       "      Duration_to_accept_offer      Status\n",
       "0                           14      Joined\n",
       "1                            3      Joined\n",
       "2                           26      Joined\n",
       "3                            1      Joined\n",
       "4                           17      Joined\n",
       "...                        ...         ...\n",
       "8977                         0      Joined\n",
       "8978                         1      Joined\n",
       "8979                         0      Joined\n",
       "8980                         0      Joined\n",
       "8981                         1  Not Joined\n",
       "\n",
       "[8982 rows x 2 columns]"
      ]
     },
     "execution_count": 42,
     "metadata": {},
     "output_type": "execute_result"
    }
   ],
   "source": [
    "hr=hmerge[['Duration_to_accept_offer','Status']]\n",
    "hr"
   ]
  },
  {
   "cell_type": "code",
   "execution_count": 39,
   "id": "18e2e993",
   "metadata": {},
   "outputs": [],
   "source": [
    "an1 = hmerge[hr.Status=='Joined']['Duration_to_accept_offer']\n",
    "an2 = hmerge[hr.Status=='Not Joined']['Duration_to_accept_offer']"
   ]
  },
  {
   "cell_type": "code",
   "execution_count": 40,
   "id": "03148914",
   "metadata": {},
   "outputs": [
    {
     "name": "stdout",
     "output_type": "stream",
     "text": [
      "test statistic =38.299910,p value=0.000000\n"
     ]
    }
   ],
   "source": [
    "test_stat, p_value = st.f_oneway(an1,an2)\n",
    "print('test statistic =%4f,p value=%5f'%(test_stat,p_value))"
   ]
  },
  {
   "cell_type": "markdown",
   "id": "f0ea8046",
   "metadata": {},
   "source": [
    "#### Inference: Inference - The p-value is less than alpha value, hence we accept the alternate hypothesis. Hence, mean of duration to accept offer is different for both people joined and not joined. So, we can say that, duration to accept the offer impacts the joining status.\n",
    "\n",
    "   "
   ]
  },
  {
   "cell_type": "markdown",
   "id": "faa37bcb",
   "metadata": {},
   "source": [
    "# Q4. \tHike offered has an impact on joining status.? "
   ]
  },
  {
   "cell_type": "markdown",
   "id": "aee594b3",
   "metadata": {},
   "source": [
    "Anova Hypothesis: \n",
    "1.    Ho - Percent hike is same for 'Joined' and 'Not Joined'\n",
    "2.    H1 - Percent hike is different\n",
    "3.    alpha value = 0.05"
   ]
  },
  {
   "cell_type": "code",
   "execution_count": 43,
   "id": "93e421d0",
   "metadata": {},
   "outputs": [],
   "source": [
    "hop1 = hmerge[hmerge.Status=='Joined']['Percent_hike_offered_in_CTC']\n",
    "hop2 = hmerge[hmerge.Status=='Not Joined']['Percent_hike_offered_in_CTC']"
   ]
  },
  {
   "cell_type": "code",
   "execution_count": 44,
   "id": "edf2ae63",
   "metadata": {},
   "outputs": [
    {
     "name": "stdout",
     "output_type": "stream",
     "text": [
      "test statistic =8.330142,p value=0.003909\n"
     ]
    }
   ],
   "source": [
    "test_stat, p_value = st.f_oneway(hop1,hop2)\n",
    "print('test statistic =%4f,p value=%5f'%(test_stat,p_value))"
   ]
  },
  {
   "cell_type": "markdown",
   "id": "d27d37a3",
   "metadata": {},
   "source": [
    "#### Inference: As the p-value is less than the alpha value, we accept the alternate hypothesis. Hence, we can say that, percent hike offered in CTC impacts the candidate's decision to join or  not join the firm."
   ]
  },
  {
   "cell_type": "markdown",
   "id": "c4a8fc30",
   "metadata": {},
   "source": [
    "# Task 1.3\n",
    "## Q1 Descriptive statistics for both numerical and categorical and draw few insights from them."
   ]
  },
  {
   "cell_type": "markdown",
   "id": "e1dcaf51",
   "metadata": {},
   "source": [
    "### INFERENCE:\n",
    "\n",
    "1. From the below information it is noted that there is no extention of DOJ provided for the candidates to accept the offer\n",
    "   which does not affect the joining status. There are more number of joins irrespective of DOJ extended or not.\n",
    " \n",
    "2. Most of the Candidates joined are offered in the E1 band and are placed in Chennai location.\n",
    "\n",
    "3. The inter-quartile range(IQR) of Rex in yrs(experience) is 3,4 and 6 which means most of the people fall under this \n",
    "   category of experience\n",
    " \n",
    "4. The mean percentage of hike expected and hike offered is 44% and 42% respectively which means that they have been          offered less than what they have expected and yet the joining rate is more.\n",
    "\n",
    "5. Source of candidates joining are more from a direct source other than the refernece and the employment agency\n",
    "\n",
    "6. min and max of duration to accept offer is 0 and 224 respectively. A lot of time is givent o candidate to accept their      offers.\n",
    "\n",
    "\n"
   ]
  },
  {
   "cell_type": "code",
   "execution_count": 51,
   "id": "787ea492",
   "metadata": {},
   "outputs": [
    {
     "data": {
      "text/html": [
       "<div>\n",
       "<style scoped>\n",
       "    .dataframe tbody tr th:only-of-type {\n",
       "        vertical-align: middle;\n",
       "    }\n",
       "\n",
       "    .dataframe tbody tr th {\n",
       "        vertical-align: top;\n",
       "    }\n",
       "\n",
       "    .dataframe thead th {\n",
       "        text-align: right;\n",
       "    }\n",
       "</style>\n",
       "<table border=\"1\" class=\"dataframe\">\n",
       "  <thead>\n",
       "    <tr style=\"text-align: right;\">\n",
       "      <th></th>\n",
       "      <th>Sno</th>\n",
       "      <th>Candidate_Ref</th>\n",
       "      <th>DOJ_Extended</th>\n",
       "      <th>Duration_to_accept_offer</th>\n",
       "      <th>Notice_Period</th>\n",
       "      <th>Offered_Band</th>\n",
       "      <th>Percent_hike_expected_in_CTC</th>\n",
       "      <th>Percent_hike_offered_in_CTC</th>\n",
       "      <th>Percent_difference_CTC</th>\n",
       "      <th>Joining_Bonus</th>\n",
       "      <th>Candidate_relocate_actual</th>\n",
       "      <th>Gender</th>\n",
       "      <th>Candidate_Source</th>\n",
       "      <th>Rex_in_Yrs</th>\n",
       "      <th>Location_ID</th>\n",
       "      <th>Age</th>\n",
       "      <th>Domicile_Id</th>\n",
       "      <th>Location</th>\n",
       "      <th>Status</th>\n",
       "    </tr>\n",
       "  </thead>\n",
       "  <tbody>\n",
       "    <tr>\n",
       "      <th>count</th>\n",
       "      <td>8982.000000</td>\n",
       "      <td>8.982000e+03</td>\n",
       "      <td>8982</td>\n",
       "      <td>8982.000000</td>\n",
       "      <td>8982.000000</td>\n",
       "      <td>8982</td>\n",
       "      <td>8982.000000</td>\n",
       "      <td>8982.000000</td>\n",
       "      <td>8982.000000</td>\n",
       "      <td>8982</td>\n",
       "      <td>8982</td>\n",
       "      <td>8982</td>\n",
       "      <td>8982</td>\n",
       "      <td>8982.000000</td>\n",
       "      <td>8982</td>\n",
       "      <td>8982.000000</td>\n",
       "      <td>8982</td>\n",
       "      <td>8982</td>\n",
       "      <td>8982</td>\n",
       "    </tr>\n",
       "    <tr>\n",
       "      <th>unique</th>\n",
       "      <td>NaN</td>\n",
       "      <td>NaN</td>\n",
       "      <td>2</td>\n",
       "      <td>NaN</td>\n",
       "      <td>NaN</td>\n",
       "      <td>4</td>\n",
       "      <td>NaN</td>\n",
       "      <td>NaN</td>\n",
       "      <td>NaN</td>\n",
       "      <td>2</td>\n",
       "      <td>2</td>\n",
       "      <td>2</td>\n",
       "      <td>3</td>\n",
       "      <td>NaN</td>\n",
       "      <td>10</td>\n",
       "      <td>NaN</td>\n",
       "      <td>24</td>\n",
       "      <td>10</td>\n",
       "      <td>2</td>\n",
       "    </tr>\n",
       "    <tr>\n",
       "      <th>top</th>\n",
       "      <td>NaN</td>\n",
       "      <td>NaN</td>\n",
       "      <td>No</td>\n",
       "      <td>NaN</td>\n",
       "      <td>NaN</td>\n",
       "      <td>E1</td>\n",
       "      <td>NaN</td>\n",
       "      <td>NaN</td>\n",
       "      <td>NaN</td>\n",
       "      <td>No</td>\n",
       "      <td>No</td>\n",
       "      <td>Male</td>\n",
       "      <td>Direct</td>\n",
       "      <td>NaN</td>\n",
       "      <td>L002</td>\n",
       "      <td>NaN</td>\n",
       "      <td>D8</td>\n",
       "      <td>Chennai</td>\n",
       "      <td>Joined</td>\n",
       "    </tr>\n",
       "    <tr>\n",
       "      <th>freq</th>\n",
       "      <td>NaN</td>\n",
       "      <td>NaN</td>\n",
       "      <td>4784</td>\n",
       "      <td>NaN</td>\n",
       "      <td>NaN</td>\n",
       "      <td>5566</td>\n",
       "      <td>NaN</td>\n",
       "      <td>NaN</td>\n",
       "      <td>NaN</td>\n",
       "      <td>8565</td>\n",
       "      <td>7694</td>\n",
       "      <td>7431</td>\n",
       "      <td>4794</td>\n",
       "      <td>NaN</td>\n",
       "      <td>3150</td>\n",
       "      <td>NaN</td>\n",
       "      <td>400</td>\n",
       "      <td>3150</td>\n",
       "      <td>7300</td>\n",
       "    </tr>\n",
       "    <tr>\n",
       "      <th>mean</th>\n",
       "      <td>5971.988533</td>\n",
       "      <td>2.843575e+06</td>\n",
       "      <td>NaN</td>\n",
       "      <td>21.450902</td>\n",
       "      <td>39.300267</td>\n",
       "      <td>NaN</td>\n",
       "      <td>44.362986</td>\n",
       "      <td>42.080104</td>\n",
       "      <td>3.208894</td>\n",
       "      <td>NaN</td>\n",
       "      <td>NaN</td>\n",
       "      <td>NaN</td>\n",
       "      <td>NaN</td>\n",
       "      <td>4.240036</td>\n",
       "      <td>NaN</td>\n",
       "      <td>29.917613</td>\n",
       "      <td>NaN</td>\n",
       "      <td>NaN</td>\n",
       "      <td>NaN</td>\n",
       "    </tr>\n",
       "    <tr>\n",
       "      <th>std</th>\n",
       "      <td>3372.511307</td>\n",
       "      <td>4.862493e+05</td>\n",
       "      <td>NaN</td>\n",
       "      <td>25.823413</td>\n",
       "      <td>22.223764</td>\n",
       "      <td>NaN</td>\n",
       "      <td>29.045688</td>\n",
       "      <td>34.404512</td>\n",
       "      <td>27.429790</td>\n",
       "      <td>NaN</td>\n",
       "      <td>NaN</td>\n",
       "      <td>NaN</td>\n",
       "      <td>NaN</td>\n",
       "      <td>2.548636</td>\n",
       "      <td>NaN</td>\n",
       "      <td>4.096202</td>\n",
       "      <td>NaN</td>\n",
       "      <td>NaN</td>\n",
       "      <td>NaN</td>\n",
       "    </tr>\n",
       "    <tr>\n",
       "      <th>min</th>\n",
       "      <td>1.000000</td>\n",
       "      <td>2.109586e+06</td>\n",
       "      <td>NaN</td>\n",
       "      <td>0.000000</td>\n",
       "      <td>0.000000</td>\n",
       "      <td>NaN</td>\n",
       "      <td>0.000000</td>\n",
       "      <td>0.000000</td>\n",
       "      <td>-385.720000</td>\n",
       "      <td>NaN</td>\n",
       "      <td>NaN</td>\n",
       "      <td>NaN</td>\n",
       "      <td>NaN</td>\n",
       "      <td>0.000000</td>\n",
       "      <td>NaN</td>\n",
       "      <td>20.000000</td>\n",
       "      <td>NaN</td>\n",
       "      <td>NaN</td>\n",
       "      <td>NaN</td>\n",
       "    </tr>\n",
       "    <tr>\n",
       "      <th>25%</th>\n",
       "      <td>3209.250000</td>\n",
       "      <td>2.386462e+06</td>\n",
       "      <td>NaN</td>\n",
       "      <td>3.000000</td>\n",
       "      <td>30.000000</td>\n",
       "      <td>NaN</td>\n",
       "      <td>27.450000</td>\n",
       "      <td>22.640000</td>\n",
       "      <td>0.000000</td>\n",
       "      <td>NaN</td>\n",
       "      <td>NaN</td>\n",
       "      <td>NaN</td>\n",
       "      <td>NaN</td>\n",
       "      <td>3.000000</td>\n",
       "      <td>NaN</td>\n",
       "      <td>27.000000</td>\n",
       "      <td>NaN</td>\n",
       "      <td>NaN</td>\n",
       "      <td>NaN</td>\n",
       "    </tr>\n",
       "    <tr>\n",
       "      <th>50%</th>\n",
       "      <td>5977.500000</td>\n",
       "      <td>2.807473e+06</td>\n",
       "      <td>NaN</td>\n",
       "      <td>10.000000</td>\n",
       "      <td>30.000000</td>\n",
       "      <td>NaN</td>\n",
       "      <td>40.000000</td>\n",
       "      <td>36.360000</td>\n",
       "      <td>0.000000</td>\n",
       "      <td>NaN</td>\n",
       "      <td>NaN</td>\n",
       "      <td>NaN</td>\n",
       "      <td>NaN</td>\n",
       "      <td>4.000000</td>\n",
       "      <td>NaN</td>\n",
       "      <td>29.000000</td>\n",
       "      <td>NaN</td>\n",
       "      <td>NaN</td>\n",
       "      <td>NaN</td>\n",
       "    </tr>\n",
       "    <tr>\n",
       "      <th>75%</th>\n",
       "      <td>8734.750000</td>\n",
       "      <td>3.300031e+06</td>\n",
       "      <td>NaN</td>\n",
       "      <td>33.000000</td>\n",
       "      <td>60.000000</td>\n",
       "      <td>NaN</td>\n",
       "      <td>53.850000</td>\n",
       "      <td>50.000000</td>\n",
       "      <td>12.782500</td>\n",
       "      <td>NaN</td>\n",
       "      <td>NaN</td>\n",
       "      <td>NaN</td>\n",
       "      <td>NaN</td>\n",
       "      <td>6.000000</td>\n",
       "      <td>NaN</td>\n",
       "      <td>34.000000</td>\n",
       "      <td>NaN</td>\n",
       "      <td>NaN</td>\n",
       "      <td>NaN</td>\n",
       "    </tr>\n",
       "    <tr>\n",
       "      <th>max</th>\n",
       "      <td>12333.000000</td>\n",
       "      <td>3.836076e+06</td>\n",
       "      <td>NaN</td>\n",
       "      <td>224.000000</td>\n",
       "      <td>120.000000</td>\n",
       "      <td>NaN</td>\n",
       "      <td>359.770000</td>\n",
       "      <td>471.430000</td>\n",
       "      <td>200.000000</td>\n",
       "      <td>NaN</td>\n",
       "      <td>NaN</td>\n",
       "      <td>NaN</td>\n",
       "      <td>NaN</td>\n",
       "      <td>24.000000</td>\n",
       "      <td>NaN</td>\n",
       "      <td>60.000000</td>\n",
       "      <td>NaN</td>\n",
       "      <td>NaN</td>\n",
       "      <td>NaN</td>\n",
       "    </tr>\n",
       "  </tbody>\n",
       "</table>\n",
       "</div>"
      ],
      "text/plain": [
       "                 Sno  Candidate_Ref DOJ_Extended  Duration_to_accept_offer  \\\n",
       "count    8982.000000   8.982000e+03         8982               8982.000000   \n",
       "unique           NaN            NaN            2                       NaN   \n",
       "top              NaN            NaN           No                       NaN   \n",
       "freq             NaN            NaN         4784                       NaN   \n",
       "mean     5971.988533   2.843575e+06          NaN                 21.450902   \n",
       "std      3372.511307   4.862493e+05          NaN                 25.823413   \n",
       "min         1.000000   2.109586e+06          NaN                  0.000000   \n",
       "25%      3209.250000   2.386462e+06          NaN                  3.000000   \n",
       "50%      5977.500000   2.807473e+06          NaN                 10.000000   \n",
       "75%      8734.750000   3.300031e+06          NaN                 33.000000   \n",
       "max     12333.000000   3.836076e+06          NaN                224.000000   \n",
       "\n",
       "        Notice_Period Offered_Band  Percent_hike_expected_in_CTC  \\\n",
       "count     8982.000000         8982                   8982.000000   \n",
       "unique            NaN            4                           NaN   \n",
       "top               NaN           E1                           NaN   \n",
       "freq              NaN         5566                           NaN   \n",
       "mean        39.300267          NaN                     44.362986   \n",
       "std         22.223764          NaN                     29.045688   \n",
       "min          0.000000          NaN                      0.000000   \n",
       "25%         30.000000          NaN                     27.450000   \n",
       "50%         30.000000          NaN                     40.000000   \n",
       "75%         60.000000          NaN                     53.850000   \n",
       "max        120.000000          NaN                    359.770000   \n",
       "\n",
       "        Percent_hike_offered_in_CTC  Percent_difference_CTC Joining_Bonus  \\\n",
       "count                   8982.000000             8982.000000          8982   \n",
       "unique                          NaN                     NaN             2   \n",
       "top                             NaN                     NaN            No   \n",
       "freq                            NaN                     NaN          8565   \n",
       "mean                      42.080104                3.208894           NaN   \n",
       "std                       34.404512               27.429790           NaN   \n",
       "min                        0.000000             -385.720000           NaN   \n",
       "25%                       22.640000                0.000000           NaN   \n",
       "50%                       36.360000                0.000000           NaN   \n",
       "75%                       50.000000               12.782500           NaN   \n",
       "max                      471.430000              200.000000           NaN   \n",
       "\n",
       "       Candidate_relocate_actual Gender Candidate_Source   Rex_in_Yrs  \\\n",
       "count                       8982   8982             8982  8982.000000   \n",
       "unique                         2      2                3          NaN   \n",
       "top                           No   Male           Direct          NaN   \n",
       "freq                        7694   7431             4794          NaN   \n",
       "mean                         NaN    NaN              NaN     4.240036   \n",
       "std                          NaN    NaN              NaN     2.548636   \n",
       "min                          NaN    NaN              NaN     0.000000   \n",
       "25%                          NaN    NaN              NaN     3.000000   \n",
       "50%                          NaN    NaN              NaN     4.000000   \n",
       "75%                          NaN    NaN              NaN     6.000000   \n",
       "max                          NaN    NaN              NaN    24.000000   \n",
       "\n",
       "       Location_ID          Age Domicile_Id Location  Status  \n",
       "count         8982  8982.000000        8982     8982    8982  \n",
       "unique          10          NaN          24       10       2  \n",
       "top           L002          NaN          D8  Chennai  Joined  \n",
       "freq          3150          NaN         400     3150    7300  \n",
       "mean           NaN    29.917613         NaN      NaN     NaN  \n",
       "std            NaN     4.096202         NaN      NaN     NaN  \n",
       "min            NaN    20.000000         NaN      NaN     NaN  \n",
       "25%            NaN    27.000000         NaN      NaN     NaN  \n",
       "50%            NaN    29.000000         NaN      NaN     NaN  \n",
       "75%            NaN    34.000000         NaN      NaN     NaN  \n",
       "max            NaN    60.000000         NaN      NaN     NaN  "
      ]
     },
     "execution_count": 51,
     "metadata": {},
     "output_type": "execute_result"
    }
   ],
   "source": [
    "hmerge.describe(include='all')"
   ]
  },
  {
   "cell_type": "markdown",
   "id": "86be3500",
   "metadata": {},
   "source": [
    "## Q2.  Statistical Analysis Using Python"
   ]
  },
  {
   "cell_type": "markdown",
   "id": "34b78c71",
   "metadata": {},
   "source": [
    "t/Chi/Anova"
   ]
  },
  {
   "cell_type": "code",
   "execution_count": 46,
   "id": "e4ba2c40",
   "metadata": {},
   "outputs": [
    {
     "name": "stdout",
     "output_type": "stream",
     "text": [
      "test statistic =38.299910,p value=0.000000\n"
     ]
    }
   ],
   "source": [
    "an1 = hmerge[hmerge.Status=='Joined']['Duration_to_accept_offer']\n",
    "an2 = hmerge[hmerge.Status=='Not Joined']['Duration_to_accept_offer']\n",
    "\n",
    "test_stat, p_value = st.f_oneway(an1,an2)\n",
    "print('test statistic =%4f,p value=%5f'%(test_stat,p_value))"
   ]
  },
  {
   "cell_type": "markdown",
   "id": "ef8e96b3",
   "metadata": {},
   "source": [
    "Anova Hypothesis: \n",
    "1.    Ho - Percent hike is same for 'Joined' and 'Not Joined'\n",
    "2.    H1 - Percent hike is different\n",
    "3.    alpha value = 0.05"
   ]
  },
  {
   "cell_type": "code",
   "execution_count": 50,
   "id": "d8233fcb",
   "metadata": {},
   "outputs": [
    {
     "name": "stdout",
     "output_type": "stream",
     "text": [
      "test statistic = 8.3301, p value = 0.00391\n",
      "Mean percent hike offered:  42.080103540414\n"
     ]
    }
   ],
   "source": [
    "import scipy.stats as st\n",
    "temp1 = hmerge[hmerge.Status == 'Joined']['Percent_hike_offered_in_CTC']\n",
    "temp2 = hmerge[hmerge.Status == 'Not Joined']['Percent_hike_offered_in_CTC']\n",
    "\n",
    "test_stat, p_value = st.f_oneway(temp1, temp2)\n",
    "print('test statistic = %.4f, p value = %.5f' %(test_stat, p_value))\n",
    "print(\"Mean percent hike offered: \",hmerge['Percent_hike_offered_in_CTC'].mean())"
   ]
  },
  {
   "cell_type": "markdown",
   "id": "6774619b",
   "metadata": {},
   "source": [
    "### Chi-Square Test"
   ]
  },
  {
   "cell_type": "markdown",
   "id": "db9bceff",
   "metadata": {},
   "source": [
    "\n",
    " 1. H0 - mean duration to accept offer is not same \n",
    " 2. H1 - mean duration to accept offer is same for both 'joined' and 'not joined'. "
   ]
  },
  {
   "cell_type": "code",
   "execution_count": 51,
   "id": "3a0a7945",
   "metadata": {},
   "outputs": [
    {
     "name": "stdout",
     "output_type": "stream",
     "text": [
      "Dependent (Reject H0)\n"
     ]
    }
   ],
   "source": [
    "from scipy.stats import chi2_contingency\n",
    "stat,p_value,dof,expected = chi2_contingency(notice_p)\n",
    "alpha = 0.05\n",
    "if p_value <= alpha:\n",
    "    print('Dependent (Reject H0)')\n",
    "else:\n",
    "    print('Independent (accept H0)')"
   ]
  },
  {
   "cell_type": "code",
   "execution_count": null,
   "id": "d32973e7",
   "metadata": {},
   "outputs": [],
   "source": []
  }
 ],
 "metadata": {
  "kernelspec": {
   "display_name": "Python 3 (ipykernel)",
   "language": "python",
   "name": "python3"
  },
  "language_info": {
   "codemirror_mode": {
    "name": "ipython",
    "version": 3
   },
   "file_extension": ".py",
   "mimetype": "text/x-python",
   "name": "python",
   "nbconvert_exporter": "python",
   "pygments_lexer": "ipython3",
   "version": "3.9.7"
  }
 },
 "nbformat": 4,
 "nbformat_minor": 5
}
