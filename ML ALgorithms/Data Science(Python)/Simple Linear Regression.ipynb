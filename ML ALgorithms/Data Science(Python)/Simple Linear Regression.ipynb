{
 "cells": [
  {
   "cell_type": "code",
   "execution_count": 1,
   "id": "97b63648",
   "metadata": {},
   "outputs": [],
   "source": [
    "import pandas as pd\n",
    "import numpy as np\n",
    "import seaborn as sns\n",
    "import matplotlib.pyplot as plt"
   ]
  },
  {
   "cell_type": "code",
   "execution_count": 6,
   "id": "138c2b93",
   "metadata": {},
   "outputs": [],
   "source": [
    "data = pd.read_csv('C:/Deloitte Folder/ML/Salary_Data.csv')"
   ]
  },
  {
   "cell_type": "code",
   "execution_count": 65,
   "id": "321f9f67",
   "metadata": {},
   "outputs": [
    {
     "data": {
      "text/html": [
       "<div>\n",
       "<style scoped>\n",
       "    .dataframe tbody tr th:only-of-type {\n",
       "        vertical-align: middle;\n",
       "    }\n",
       "\n",
       "    .dataframe tbody tr th {\n",
       "        vertical-align: top;\n",
       "    }\n",
       "\n",
       "    .dataframe thead th {\n",
       "        text-align: right;\n",
       "    }\n",
       "</style>\n",
       "<table border=\"1\" class=\"dataframe\">\n",
       "  <thead>\n",
       "    <tr style=\"text-align: right;\">\n",
       "      <th></th>\n",
       "      <th>YearsExperience</th>\n",
       "      <th>Salary</th>\n",
       "    </tr>\n",
       "  </thead>\n",
       "  <tbody>\n",
       "    <tr>\n",
       "      <th>0</th>\n",
       "      <td>1.1</td>\n",
       "      <td>39343.0</td>\n",
       "    </tr>\n",
       "    <tr>\n",
       "      <th>1</th>\n",
       "      <td>1.3</td>\n",
       "      <td>46205.0</td>\n",
       "    </tr>\n",
       "    <tr>\n",
       "      <th>2</th>\n",
       "      <td>1.5</td>\n",
       "      <td>37731.0</td>\n",
       "    </tr>\n",
       "    <tr>\n",
       "      <th>3</th>\n",
       "      <td>2.0</td>\n",
       "      <td>43525.0</td>\n",
       "    </tr>\n",
       "    <tr>\n",
       "      <th>4</th>\n",
       "      <td>2.2</td>\n",
       "      <td>39891.0</td>\n",
       "    </tr>\n",
       "  </tbody>\n",
       "</table>\n",
       "</div>"
      ],
      "text/plain": [
       "   YearsExperience   Salary\n",
       "0              1.1  39343.0\n",
       "1              1.3  46205.0\n",
       "2              1.5  37731.0\n",
       "3              2.0  43525.0\n",
       "4              2.2  39891.0"
      ]
     },
     "execution_count": 65,
     "metadata": {},
     "output_type": "execute_result"
    }
   ],
   "source": [
    "data.head()"
   ]
  },
  {
   "cell_type": "markdown",
   "id": "2d8962af",
   "metadata": {},
   "source": [
    "## Splitting data to x and y"
   ]
  },
  {
   "cell_type": "code",
   "execution_count": 72,
   "id": "664f3161",
   "metadata": {},
   "outputs": [],
   "source": [
    "x= data.iloc[:,:-1].values\n",
    "y= data.iloc[:,-1].values"
   ]
  },
  {
   "cell_type": "markdown",
   "id": "7229a60f",
   "metadata": {},
   "source": [
    "## Splitting data into train and test "
   ]
  },
  {
   "cell_type": "code",
   "execution_count": 54,
   "id": "d6f1d999",
   "metadata": {},
   "outputs": [],
   "source": [
    "from sklearn.model_selection import train_test_split\n",
    "x_train,x_test,y_train,y_test = train_test_split(x,y,test_size = 0.3,random_state=0)"
   ]
  },
  {
   "cell_type": "markdown",
   "id": "1f509963",
   "metadata": {},
   "source": [
    "## Training the Machine Learning model on linear regression"
   ]
  },
  {
   "cell_type": "code",
   "execution_count": 55,
   "id": "f21bbdf4",
   "metadata": {},
   "outputs": [
    {
     "data": {
      "text/plain": [
       "LinearRegression()"
      ]
     },
     "execution_count": 55,
     "metadata": {},
     "output_type": "execute_result"
    }
   ],
   "source": [
    "from sklearn.linear_model import LinearRegression\n",
    "regressor = LinearRegression()\n",
    "regressor.fit(x_train,y_train)"
   ]
  },
  {
   "cell_type": "markdown",
   "id": "4b2d2667",
   "metadata": {},
   "source": [
    "## Predicting the test results"
   ]
  },
  {
   "cell_type": "code",
   "execution_count": 56,
   "id": "fe2ac47f",
   "metadata": {},
   "outputs": [],
   "source": [
    "y_pred = regressor.predict(x_test)"
   ]
  },
  {
   "cell_type": "markdown",
   "id": "d1e1f82b",
   "metadata": {},
   "source": [
    "## Visualisations"
   ]
  },
  {
   "cell_type": "code",
   "execution_count": 57,
   "id": "3755661b",
   "metadata": {},
   "outputs": [
    {
     "data": {
      "text/plain": [
       "Text(0.5, 1.0, 'Salary vs Experience(trainig)')"
      ]
     },
     "execution_count": 57,
     "metadata": {},
     "output_type": "execute_result"
    },
    {
     "data": {
      "image/png": "[encoded data removed]",
      "text/plain": [
       "<Figure size 432x288 with 1 Axes>"
      ]
     },
     "metadata": {
      "needs_background": "light"
     },
     "output_type": "display_data"
    }
   ],
   "source": [
    "# PLotting training dataset\n",
    "plt.scatter(x_train,y_train,color = 'red')\n",
    "plt.plot(x_train,regressor.predict(x_train),color='blue')\n",
    "plt.xlabel('Years of Experience')\n",
    "plt.ylabel('Salary')\n",
    "plt.title('Salary vs Experience(trainig)')"
   ]
  },
  {
   "cell_type": "code",
   "execution_count": 58,
   "id": "a351d6ab",
   "metadata": {},
   "outputs": [
    {
     "data": {
      "text/plain": [
       "Text(0.5, 1.0, 'Salary vs Experience')"
      ]
     },
     "execution_count": 58,
     "metadata": {},
     "output_type": "execute_result"
    },
    {
     "data": {
      "image/png": "[encoded data removed]",
      "text/plain": [
       "<Figure size 432x288 with 1 Axes>"
      ]
     },
     "metadata": {
      "needs_background": "light"
     },
     "output_type": "display_data"
    }
   ],
   "source": [
    "# comparing the testing dataset and pedicted dataset\n",
    "plt.scatter(x_test,y_test,color='red') # testing dataset\n",
    "plt.scatter(x_test,y_pred,color = 'green') # predicted dataset\n",
    "plt.plot(x_train,regressor.predict(x_train),color='blue')\n",
    "plt.xlabel('Years of Experience')\n",
    "plt.ylabel('Salary')\n",
    "plt.title('Salary vs Experience')"
   ]
  },
  {
   "cell_type": "markdown",
   "id": "0e8dab09",
   "metadata": {},
   "source": [
    " ## Making a Single prediction from the trained model( for example : Salary of an employee with 12 years of experience\n",
    " \n",
    "     the value 13 should be given as the same dimention of the x_test"
   ]
  },
  {
   "cell_type": "code",
   "execution_count": 59,
   "id": "6baf56d8",
   "metadata": {},
   "outputs": [
    {
     "name": "stdout",
     "output_type": "stream",
     "text": [
      "[139100.52677552]\n"
     ]
    }
   ],
   "source": [
    "print(regressor.predict([[12]]))"
   ]
  },
  {
   "cell_type": "markdown",
   "id": "20f25c01",
   "metadata": {},
   "source": [
    "## Getting the final linear regression equation (y = mx+c)\n",
    "        where,\n",
    "            m=slope(coefficient of x)\n",
    "            x=value to predict\n",
    "            c = intercept"
   ]
  },
  {
   "cell_type": "code",
   "execution_count": 60,
   "id": "a5a84f11",
   "metadata": {},
   "outputs": [
    {
     "name": "stdout",
     "output_type": "stream",
     "text": [
      "[9360.26128619]\n",
      "26777.39134119764\n"
     ]
    }
   ],
   "source": [
    "print(regressor.coef_) # returns the value of m\n",
    "print(regressor.intercept_) # returns the value of c"
   ]
  },
  {
   "cell_type": "markdown",
   "id": "18c0b008",
   "metadata": {},
   "source": [
    "## Analyzing the model\n",
    "    \n",
    "        mean squared error tells the best line of fit. Tells the difference between y_test and y_pred. It should be the  \n",
    "        least value\n",
    "\n",
    "        r-square tells how accurate the model is. Near to 1 indicates the model id  nicely accurate and good "
   ]
  },
  {
   "cell_type": "code",
   "execution_count": 63,
   "id": "7d5e5024",
   "metadata": {},
   "outputs": [
    {
     "name": "stdout",
     "output_type": "stream",
     "text": [
      "RMSE: 4834.260936361728\n"
     ]
    }
   ],
   "source": [
    "from sklearn.metrics import mean_squared_error\n",
    "from sklearn.metrics import r2_score\n",
    "print(\"RMSE:\",np.sqrt(mean_squared_error(y_test,y_pred)))"
   ]
  },
  {
   "cell_type": "code",
   "execution_count": 64,
   "id": "d5632d0c",
   "metadata": {},
   "outputs": [
    {
     "name": "stdout",
     "output_type": "stream",
     "text": [
      "R-Squared 0.9740993407213511\n"
     ]
    }
   ],
   "source": [
    "print(\"R-Squared\",r2_score(y_test,y_pred))"
   ]
  },
  {
   "cell_type": "code",
   "execution_count": null,
   "id": "3efef53e",
   "metadata": {},
   "outputs": [],
   "source": []
  }
 ],
 "metadata": {
  "kernelspec": {
   "display_name": "Python 3 (ipykernel)",
   "language": "python",
   "name": "python3"
  },
  "language_info": {
   "codemirror_mode": {
    "name": "ipython",
    "version": 3
   },
   "file_extension": ".py",
   "mimetype": "text/x-python",
   "name": "python",
   "nbconvert_exporter": "python",
   "pygments_lexer": "ipython3",
   "version": "3.9.7"
  }
 },
 "nbformat": 4,
 "nbformat_minor": 5
}
